{
 "cells": [
  {
   "cell_type": "markdown",
   "metadata": {},
   "source": [
    "# BATs Language Metrics\n",
    "This is an attempt to jupyterize Wally's Language Metrics script (lang_metrics.py)\n",
    "\n",
    "Comment from the original script:\n",
    "   PURPOSE: Calculate various metrics to describe code-switching behavior in language-tagged corpora.\n"
   ]
  },
  {
   "cell_type": "code",
   "execution_count": 1,
   "metadata": {},
   "outputs": [],
   "source": [
    "# Lets import modules needed\n",
    "import sys\n",
    "import math\n",
    "import numpy as np\n",
    "import pandas as pd\n",
    "from itertools import groupby\n",
    "from collections import Counter\n",
    "import csv"
   ]
  },
  {
   "cell_type": "code",
   "execution_count": 2,
   "metadata": {},
   "outputs": [],
   "source": [
    "# These were the crux of the script. I would have preferred to rewrite these scripts \n",
    "# so they take some subset of the inputs: LANGS, LANG_TAGS and NUMTAGS\n",
    "# but for now I am leaving them as they are. \n",
    "# Future plan: Make a class with these variables as class members and define a constructor\n",
    "#              that does input file parsing and initializes these variables\n",
    "def metrics():\n",
    "        num_switchpoints()\n",
    "        m_metric()\n",
    "        i_metric()\n",
    "        burstiness()\n",
    "        memory()\n",
    "        lang_entropy()\n",
    "        span_entropy()\n",
    "        switch_entropy()\n",
    "        switch_surprisal()\n",
    "\n",
    "\n",
    "def num_switchpoints():\n",
    "        num_switches = 0\n",
    "\n",
    "        for index, tag in enumerate(LANG_TAGS[1:]):\n",
    "                if tag != LANG_TAGS[index - 1]:\n",
    "                        num_switches += 1\n",
    "\n",
    "        print(\"Number of switchpoints: {}\".format(num_switches))\n",
    "\n",
    "\n",
    "def m_metric():\n",
    "        num_langs = len(LANGS)\n",
    "        counts = Counter(LANG_TAGS)\n",
    "        m_metric = 0.0\n",
    "\n",
    "        if num_langs == 1:\n",
    "                print(\"M-metric: {}\".format(m_metric))\n",
    "                return\n",
    "\n",
    "\n",
    "        # Compute p_i^2 for all languages in text\n",
    "        p_lang = {}\n",
    "        for lang, count in counts.items():\n",
    "                p_lang[lang] = (count / float(NUMTAGS)) ** 2\n",
    "\n",
    "        p_sum = sum(p_lang.values())\n",
    "        m_metric = (1 - p_sum) / ((num_langs - 1) * p_sum)\n",
    "\n",
    "        print(\"M-metric: {}\".format(m_metric))\n",
    "\n",
    "\n",
    "def i_metric():\n",
    "        # Count number of language switches for each language\n",
    "        switches = {lang: {} for lang in LANGS}\n",
    "        counts = Counter(zip(LANG_TAGS, LANG_TAGS[1:]))\n",
    "\n",
    "        # Compute transition probabilities\n",
    "        for (x, y), c in counts.items():\n",
    "                switches[x][y] = c / float(NUMTAGS - 1)\n",
    "\n",
    "        i_metric = 0.0\n",
    "\n",
    "        # Sum all probabilities of switching language\n",
    "        for lang1, switch in switches.items():\n",
    "                for lang2, prob in switch.items():\n",
    "                        if lang1 != lang2:\n",
    "                                i_metric += prob\n",
    "\n",
    "        print(\"I-metric: {}\".format(i_metric))\n",
    "\n",
    "\n",
    "def burstiness():\n",
    "        spans = [len(list(group)) for lang, group in groupby(LANG_TAGS)]\n",
    "        mean = np.mean(spans)\n",
    "        sd = np.std(spans)\n",
    "        burstiness = (sd - mean)/(sd + mean)\n",
    "        # TODO implement sliding scale ranging between 0 and 1 for a coefficient 'c' 
    "        # multiplied to 'mean'
    "\n",
    "        print(\"Burstiness: {}\".format(burstiness))\n",
    "\n",
    "def burstinessFano():\n",
    "        spans = [len(list(group)) for lang, group in groupby(LANG_TAGS)]\n",
    "        mean = np.mean(spans)\n",
    "        sd = np.std(spans)\n",
    "        burstinessFano = ((sd * sd) - mean )/((sd * sd) + mean)\n",
    "        # TODO implement sliding scale ranging between 0 and 1 for a coefficient 'c' 
    "        # multiplied to 'mean'
    "\n",
    "        print(\"Burstiness Fano: {}\".format(burstinessFano))\n"
    "\n",
    "def Fano():\n"
    "        spans = [len(list(group)) for lang, group in groupby(LANG_TAGS)]\n",
    "        mean = np.mean(spans)\n",
    "        sd = np.std(spans)\n",
    "        Fano = (sd * sd)/(mean)\n",
    "        # TODO implement sliding scale (positive range TBD) for a coefficient 'c' 
    "        # multiplied to 'sd * sd'
    "\n",
    "        print(\"Fano: {}\".format(Fano))\n"
    "\n",
    "\n",
    "def slidingScale
    "def memory():\n",
    "        spans = [len(list(group)) for lang, group in groupby(LANG_TAGS)]\n",
    "        mean1 = np.mean(spans[:-1])\n",
    "        mean2 = np.mean(spans[1:])\n",
    "        sd1 = np.std(spans[:-1])\n",
    "        sd2 = np.std(spans[1:])\n",
    "        memory = 0.0\n",
    "\n",
    "        for i, span in enumerate(spans[:-1]):\n",
    "                memory += (span - mean1) * (spans[i + 1] - mean2)\n",
    "\n",
    "        memory /= (len(spans) - 1) * (sd1 * sd2)\n",
    "\n",
    "        print(\"Memory: {}\".format(memory))\n",
    "\n",
    "\n",
    "def spans():\n",
    "        spans = [(lang, len(list(group))) for lang, group in groupby(LANG_TAGS)]\n",
    "\n",
    "        print(\"Lang\\tLength\")\n",
    "\n",
    "        for lang, length in spans:\n",
    "                print(\"{}\\t{}\".format(lang, length))\n",
    "\n",
    "\n",
    "def span_summary():\n",
    "        spans = sorted([(lang, len(list(group))) for lang, group in groupby(LANG_TAGS)])\n",
    "        spans = sorted([(c, len(list(cgen))) for c, cgen in groupby(spans)])\n",
    "\n",
    "        print(\"Lang\\tSpanLength\\tSpanFreq\")\n",
    "\n",
    "        for (lang, length), freq in spans:\n",
    "                print(\"{}\\t{}\\t{}\".format(lang, length, freq))\n",
    "\n",
    "\n",
    "def switchpoints():\n",
    "        switchpoints = []\n",
    "\n",
    "        # Compute vector of switch indices\n",
    "        for index, tag in enumerate(LANG_TAGS[:-1]):\n",
    "                if tag != LANG_TAGS[index + 1]:\n",
    "                        switchpoints.append(index + 1)\n",
    "                else:\n",
    "                        switchpoints.append(0)\n",
    "\n",
    "        for switch in switchpoints:\n",
    "                print(\"{}\".format(switch))\n",
    "\n",
    "\n",
    "def lang_entropy():\n",
    "        # Count frequencies of language tokens\n",
    "        counts = Counter(LANG_TAGS)\n",
    "\n",
    "        # Compute entropy based on unigram language tokens\n",
    "        lang_entropy = 0.0\n",
    "        for lang, count in counts.items():\n",
    "                lang_prob = count / float(NUMTAGS)\n",
    "                lang_entropy -= lang_prob * math.log2(lang_prob)\n",
    "\n",
    "        print(\"Language Entropy: {}\".format(lang_entropy))\n",
    "\n",
    "\n",
    "def span_entropy():\n",
    "        # Get frequencies of language spans\n",
    "        spans = [len(list(group)) for lang, group in groupby(LANG_TAGS)]\n",
    "        span_counts = Counter(spans)\n",
    "        total_count = len(spans)\n",
    "\n",
    "        # Compute entropy based on spans of language tokens\n",
    "        span_entropy = 0.0\n",
    "        for length, count in span_counts.items():\n",
    "                span_prob = count / float(total_count)\n",
    "                span_entropy -= span_prob * math.log2(span_prob)\n",
    "\n",
    "        print(\"Span Entropy: {}\".format(span_entropy))\n",
    "\n",
    "\n",
    "def switch_entropy():\n",
    "        switches = 0\n",
    "\n",
    "        # Compute vector of switch indices\n",
    "        for index, tag in enumerate(LANG_TAGS[:-1]):\n",
    "                if tag != LANG_TAGS[index + 1]:\n",
    "                        switches += 1\n",
    "\n",
    "        switches = switches / (NUMTAGS - 1)\n",
    "        switches = - switches * math.log2(switches)\n",
    "\n",
    "        print(\"Switch Entropy: {}\".format(switches))\n",
    "\n",
    "\n",
    "def switch_surprisal():\n",
    "        surprisal = 0\n",
    "\n",
    "        # Compute vector of switch indices\n",
    "        for index, tag in enumerate(LANG_TAGS[:-1]):\n",
    "                if tag != LANG_TAGS[index + 1]:\n",
    "                        surprisal += 1\n",
    "\n",
    "        surprisal = surprisal / (NUMTAGS - 1)\n",
    "        surprisal = math.log2(1 / surprisal)\n",
    "\n",
    "        print(\"Switch Surprisal: {}\".format(surprisal))\n",
    "\n"
   ]
  },
  {
   "cell_type": "markdown",
   "metadata": {},
   "source": [
    "## Process\n",
    "### Step1: Import file using pandas' `read_csv`\n",
    "#### Delimiter\n",
    "The input file is expected to be a comma(or tab) separated file specified by the delimiter.\n",
    "#### Header\n",
    "If the file has NO header then let read_csv know it, because by default it expects a header.\n",
    "\n",
    "### Step2: Read all columns and give names to columns of interest\n",
    "The file may have multiple columns but we only need the word and its language tag. If it has other columns just read them and ignore them. For example, the Solorio_7k dataset that has 3 columns and the KC dataset which has 7 columns. \n",
    "### Step3: Preprocessing data\n",
    "#### Non-word tokens\n",
    "Look for only tokens that have word characters;  Word characters include letters (lowercase,uppercase), digits, underscore and hyphen (`A-Za-z0-9_-`). It also includes unicode characters from other languages (needs testing to make sure).\n",
    "#### Puntuation and Named Entities\n",
    "For now, we will treat them the same way. Replace the language TAG ('Punct'/'Other', 'NamedEnt') with the language TAG preceeding it. "
   ]
  },
  {
   "cell_type": "code",
   "execution_count": 3,
   "metadata": {},
   "outputs": [
    {
     "name": "stdout",
     "output_type": "stream",
     "text": [
      "Number of switchpoints: 514\n",
      "M-metric: 0.6032507267542166\n",
      "I-metric: 0.08076814459192319\n",
      "Burstiness: 0.2809722569687539\n",
      "Memory: -0.12955480386964177\n",
      "Language Entropy: 0.8132855669302232\n",
      "Span Entropy: 4.482900969316185\n",
      "Switch Entropy: 0.29319400180773303\n",
      "Switch Surprisal: 3.6300697916125264\n"
     ]
    },
    {
     "name": "stderr",
     "output_type": "stream",
     "text": [
      "C:\\Users\\ry2333\\anaconda\\lib\\site-packages\\ipykernel_launcher.py:4: UserWarning: This pattern has match groups. To actually get the groups, use str.extract.\n",
      "  after removing the cwd from sys.path.\n"
     ]
    }
   ],
   "source": [
    "langdata = pd.read_csv('codeswitch-annotation/Solorio7k/SolorioGoldStandard',header=None,sep='\\t')\n",
    "langdata.columns = ['word', 'language']\n",
    "# Only get tokens that are words\n",
    "langdata = langdata[langdata['word'].str.contains('(\\w+)', regex=True)]\n",
    "# Tokens tagged with language value as 'Other'/'Punct' and 'NamedEnt' are for \n",
    "# now converted to NaN. This lets use then do a fillna with a ffill method to \n",
    "# replace them with the previous language\n",
    "langdata.replace(['Other', 'Punct', 'NamedEnt','O'], [None, None, None, None], inplace=True)\n",
    "langdata.fillna(method='ffill', inplace=True)\n",
    "# LANG_TAGS without puntuation and Named Entinty\n",
    "LANG_TAGS = list(langdata['language'].values)\n",
    "# Languages\n",
    "LANGS = langdata['language'].unique()\n",
    "# Number of words/tokens\n",
    "NUMTAGS = len(LANG_TAGS)\n",
    "# Lets get some stats\n",
    "metrics()"
   ]
  },
  {
   "cell_type": "code",
   "execution_count": 4,
   "metadata": {},
   "outputs": [
    {
     "name": "stdout",
     "output_type": "stream",
     "text": [
      "Number of switchpoints: 12757\n",
      "M-metric: 0.9900635012562844\n",
      "I-metric: 0.22435544430538173\n",
      "Burstiness: 0.03661470638321851\n",
      "Memory: -0.013759199094242879\n",
      "Language Entropy: 0.9963952680740547\n",
      "Span Entropy: 3.387461397010176\n",
      "Switch Entropy: 0.4837421742722639\n",
      "Switch Surprisal: 2.1561419013920498\n"
     ]
    },
    {
     "name": "stderr",
     "output_type": "stream",
     "text": [
      "C:\\Users\\ry2333\\anaconda\\lib\\site-packages\\ipykernel_launcher.py:6: UserWarning: This pattern has match groups. To actually get the groups, use str.extract.\n",
      "  \n"
     ]
    }
   ],
   "source": [
    "#Lets try it on a different dataset - KillerCronicas\n",
    "langdata = pd.read_csv('codeswitch-annotation/KillerCronicas/Killer_Cronicas-output.txt',\n",
    "                       delimiter=\",\",quoting=csv.QUOTE_NONE, encoding='utf-8')\n",
    "langdata.columns = ['word','language']\n",
    "# Only get tokens that are words\n",
    "langdata = langdata[langdata['word'].str.contains('(\\w+)', regex=True)]\n",
    "# Tokens tagged with language value as 'Other'/'Punct' and 'NamedEnt' are for \n",
    "# now converted to NaN. This lets us then do a fillna with a ffill method to \n",
    "# replace them with the previous language\n",
    "langdata.replace(['Other', 'Punct', 'NamedEnt','O'], [None, None, None, None], inplace=True)\n",
    "langdata.fillna(method='ffill', inplace=True)\n",
    "LANG_TAGS = list(langdata['language'].values)\n",
    "# Languages\n",
    "LANGS = langdata['language'].unique()\n",
    "# Number of words/tokens\n",
    "NUMTAGS = len(LANG_TAGS)\n",
    "# Lets get some stats\n",
    "metrics()"
   ]
  },
  {
   "cell_type": "code",
   "execution_count": 5,
   "metadata": {},
   "outputs": [
    {
     "name": "stdout",
     "output_type": "stream",
     "text": [
      "Number of switchpoints: 1308\n",
      "M-metric: 0.36602988074363463\n",
      "I-metric: 0.16013681592039805\n",
      "Burstiness: 0.2031047250344083\n",
      "Memory: -0.17457413757262538\n",
      "Language Entropy: 0.923397447454271\n",
      "Span Entropy: 3.6166986739080054\n",
      "Switch Entropy: 0.4231812439648008\n",
      "Switch Surprisal: 2.642623069108348\n"
     ]
    },
    {
     "name": "stderr",
     "output_type": "stream",
     "text": [
      "C:\\Users\\ry2333\\anaconda\\lib\\site-packages\\ipykernel_launcher.py:6: UserWarning: This pattern has match groups. To actually get the groups, use str.extract.\n",
      "  \n"
     ]
    }
   ],
   "source": [
    "#Lets try it on a different dataset - \n",
    "langdata = pd.read_csv('codeswitch-annotation/Solorio7k/Solorio_7k-output.txt',\n",
    "                       delimiter=\",\",quoting=csv.QUOTE_NONE, encoding='utf-8')\n",
    "langdata.columns = ['word','language','yn']\n",
    "# Only get tokens that are words\n",
    "langdata = langdata[langdata['word'].str.contains('(\\w+)', regex=True)]\n",
    "# Tokens tagged with language value as 'Other'/'Punct' and 'NamedEnt' are for \n",
    "# now converted to NaN. This lets us then do a fillna with a ffill method to \n",
    "# replace them with the previous language\n",
    "langdata.replace(['Other', 'Punct', 'NamedEnt','O'], [None, None, None, None], inplace=True)\n",
    "langdata.fillna(method='ffill', inplace=True)\n",
    "LANG_TAGS = list(langdata['language'].values)\n",
    "# Languages\n",
    "LANGS = langdata['language'].unique()\n",
    "# Number of words/tokens\n",
    "NUMTAGS = len(LANG_TAGS)\n",
    "# Lets get some stats\n",
    "metrics()"
   ]
  },
  {
   "cell_type": "code",
   "execution_count": 6,
   "metadata": {},
   "outputs": [
    {
     "name": "stderr",
     "output_type": "stream",
     "text": [
      "C:\\Users\\ry2333\\anaconda\\lib\\site-packages\\ipykernel_launcher.py:6: UserWarning: This pattern has match groups. To actually get the groups, use str.extract.\n",
      "  \n"
     ]
    },
    {
     "name": "stdout",
     "output_type": "stream",
     "text": [
      "Number of switchpoints: 13337\n",
      "M-metric: 0.9885346558017482\n",
      "I-metric: 0.23391929187697358\n",
      "Burstiness: 0.015132220354787444\n",
      "Memory: -0.025836625300681752\n",
      "Language Entropy: 0.9958369025453956\n",
      "Span Entropy: 3.32752652902802\n",
      "Switch Entropy: 0.49027547797492654\n",
      "Switch Surprisal: 2.0959172458198942\n"
     ]
    }
   ],
   "source": [
    "#Lets try it on a different dataset - KillerCronicas\n",
    "langdata = pd.read_csv('KC_Output_Annotated_Complete.txt',\n",
    "                       delimiter=\"\\t\",quoting=csv.QUOTE_NONE, encoding='utf-8')\n",
    "langdata.columns = ['word','language','ne','e_ng_prob','sp_ng_prob','hmm_prob', 'tot_prob' ]\n",
    "# Only get tokens that are words\n",
    "langdata = langdata[langdata['word'].str.contains('(\\w+)', regex=True)]\n",
    "# Tokens tagged with language value as 'Other'/'Punct' and 'NamedEnt' are for \n",
    "# now converted to NaN. This lets us then do a fillna with a ffill method to \n",
    "# replace them with the previous language\n",
    "langdata.replace(['Other', 'Punct', 'NamedEnt','O'], [None, None, None, None], inplace=True)\n",
    "langdata.fillna(method='ffill', inplace=True)\n",
    "LANG_TAGS = list(langdata['language'].values)\n",
    "# Languages\n",
    "LANGS = langdata['language'].unique()\n",
    "# Number of words/tokens\n",
    "NUMTAGS = len(LANG_TAGS)\n",
    "# Lets get some stats\n",
    "metrics()"
   ]
  },
  {
   "cell_type": "code",
   "execution_count": 7,
   "metadata": {},
   "outputs": [
    {
     "name": "stderr",
     "output_type": "stream",
     "text": [
      "C:\\Users\\ry2333\\anaconda\\lib\\site-packages\\ipykernel_launcher.py:6: UserWarning: This pattern has match groups. To actually get the groups, use str.extract.\n",
      "  \n"
     ]
    },
    {
     "name": "stdout",
     "output_type": "stream",
     "text": [
      "Number of switchpoints: 3202\n",
      "M-metric: 0.9674659760199197\n",
      "I-metric: 0.036769555467616406\n",
      "Burstiness: 0.3749696867887837\n",
      "Memory: -0.11611865333926795\n",
      "Language Entropy: 0.9880387014531635\n",
      "Span Entropy: 5.174198662369469\n",
      "Switch Entropy: 0.17521959725520922\n",
      "Switch Surprisal: 4.765344454858265\n"
     ]
    }
   ],
   "source": [
    "#Lets try it on a different dataset - YYB\n",
    "langdata = pd.read_csv('YYB_Output_Annotated.txt',\n",
    "                       delimiter=\"\\t\",quoting=csv.QUOTE_NONE, encoding='utf-8')\n",
    "langdata.columns = ['word','language','ne','e_ng_prob','sp_ng_prob','hmm_prob', 'tot_prob' ]\n",
    "# Only get tokens that are words\n",
    "langdata = langdata[langdata['word'].str.contains('(\\w+)', regex=True)]\n",
    "# Tokens tagged with language value as 'Other'/'Punct' and 'NamedEnt' are for \n",
    "# now converted to NaN. This lets us then do a fillna with a ffill method to \n",
    "# replace them with the previous language\n",
    "langdata.replace(['Other', 'Punct', 'NamedEnt','O'], [None, None, None, None], inplace=True)\n",
    "langdata.fillna(method='ffill', inplace=True)\n",
    "LANG_TAGS = list(langdata['language'].values)\n",
    "# Languages\n",
    "LANGS = langdata['language'].unique()\n",
    "# Number of words/tokens\n",
    "NUMTAGS = len(LANG_TAGS)\n",
    "# Lets get some stats\n",
    "metrics()"
   ]
  },
  {
   "cell_type": "code",
   "execution_count": 8,
   "metadata": {},
   "outputs": [
    {
     "name": "stdout",
     "output_type": "stream",
     "text": [
      "Number of switchpoints: 2314\n",
      "M-metric: 0.985140840576621\n",
      "I-metric: 0.18631827731092437\n",
      "Burstiness: -0.0345760233007377\n",
      "Memory: 0.04236297587723761\n",
      "Language Entropy: 0.9945938194399081\n",
      "Span Entropy: 3.702957628633368\n",
      "Switch Entropy: 0.45166510817253797\n",
      "Switch Surprisal: 2.4241588892473924\n"
     ]
    },
    {
     "name": "stderr",
     "output_type": "stream",
     "text": [
      "C:\\Users\\ry2333\\anaconda\\lib\\site-packages\\ipykernel_launcher.py:22: UserWarning: This pattern has match groups. To actually get the groups, use str.extract.\n"
     ]
    }
   ],
   "source": [
    "#Lets try it on a different dataset - KillerCronicas Gold Standard\n",
    "langdata = pd.read_csv('codeswitch-annotation/KillerCronicas/KillerCronicasGoldStandard',\n",
    "                       delimiter=\"\\t\",quoting=csv.QUOTE_NONE, encoding='utf-8')\n",
    "langdata.columns = ['word','language']\n",
    "# The Gold Standard has way more language tags that the others:\n",
    "# array(['Spn', 'Eng', Punct', 'NamedEnt', Num', 'EngNoSpace', 'NonStSpn', 'Ital',\n",
    "#       'MixedNoSpace', 'Afrk', 'NonStEng', 'Mixed', 'Frn', 'SpnNoSpace',\n",
    "#       'EngNonSt', 'Yidd', 'Latin']\n",
    "#We still are only interested in languages tagged as Eng or Spn\n",
    "# Tokens tagged with language values that seem like Eng/Spn and Punct NamedEnt, \n",
    "# and will be kept and now converted to NaN. \n",
    "# This lets us then do a fillna with a ffill method to \n",
    "# replace them with the previous language (hopefully Eng or Spn)\n",
    "#langdata.replace(['Punct', 'NamedEnt'\n",
    "#                ,'Num' , 'EngNoSpace', 'NonStSpn','MixedNoSpace', 'NonStEng', 'SpnNoSpace','EngNonSt'\n",
    "#                 ]\n",
    "#                  ,[None, None\n",
    "#                 , None , None, None, None, None, None, None\n",
    "#                   ], inplace=True)\n",
    "#langdata.fillna(method='ffill', inplace=True)\n",
    "# Now drop other languages that are not Eng, Spn \n",
    "langdata = langdata[langdata['language'].str.contains('(^Spn$|^Eng$)', regex=True)]\n",
    "LANG_TAGS = list(langdata['language'].values)\n",
    "# Languages\n",
    "LANGS = langdata['language'].unique()\n",
    "#LANGS\n",
    "# Number of words/tokens\n",
    "NUMTAGS = len(LANG_TAGS)\n",
    "# Lets get some stats\n",
    "metrics()"
   ]
  },
  {
   "cell_type": "code",
   "execution_count": 29,
   "metadata": {},
   "outputs": [
    {
     "data": {
      "image/png": "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\n",
      "text/plain": [
       "<Figure size 432x288 with 1 Axes>"
      ]
     },
     "metadata": {
      "needs_background": "light"
     },
     "output_type": "display_data"
    }
   ],
   "source": [
    "from wordcloud import WordCloud\n",
    "import matplotlib.pyplot as plt\n",
    "import random\n",
    "# Get all words \n",
    "#all_words = ' '.join(langdata['word'])\n",
    "# Get only English words\n",
    "eng_words = langdata[langdata['language'].str.contains(r'^Eng$')]['word']\n",
    "# Get only Spanish words\n",
    "spn_words = langdata[langdata['language'].str.contains(r'^Spn$')]['word']\n",
    "# Get only words that are longer than N chars\n",
    "N = 4\n",
    "eng_string = ' '.join(x for x in eng_words if len(x)>N)\n",
    "spn_string = ' '.join(x for x in spn_words if len(x)>N)\n",
    "Ewordcloud = WordCloud(font_path='C:\\\\Users\\\\ry2333\\\\anaconda\\\\Lib\\\\site-packages\\\\matplotlib\\\\mpl-data\\\\fonts\\\\ttf\\\\DejaVuSerif.ttf',max_words=50,background_color='white',\n",
    "                          width=2400,\n",
    "                          height=1600).generate(eng_string)\n",
    "Swordcloud = WordCloud(font_path='C:\\\\Users\\\\ry2333\\\\anaconda\\\\Lib\\\\site-packages\\\\matplotlib\\\\mpl-data\\\\fonts\\\\ttf\\\\DejaVuSerif.ttf',max_words=50,background_color='white',\n",
    "                          width=2400,\n",
    "                          height=1600).generate(spn_string)\n",
    "plt.imshow(Swordcloud)\n",
    "plt.axis('off')\n",
    "plt.show()"
   ]
  },
  {
   "cell_type": "code",
   "execution_count": 10,
   "metadata": {},
   "outputs": [
    {
     "data": {
      "image/png": "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\n",
      "text/plain": [
       "<Figure size 432x288 with 1 Axes>"
      ]
     },
     "metadata": {
      "needs_background": "light"
     },
     "output_type": "display_data"
    }
   ],
   "source": [
    "plt.imshow(Ewordcloud)\n",
    "plt.axis('off')\n",
    "plt.show()"
   ]
  },
  {
   "cell_type": "code",
   "execution_count": null,
   "metadata": {},
   "outputs": [],
   "source": []
  }
 ],
 "metadata": {
  "kernelspec": {
   "display_name": "Python 3",
   "language": "python",
   "name": "python3"
  },
  "language_info": {
   "codemirror_mode": {
    "name": "ipython",
    "version": 3
   },
   "file_extension": ".py",
   "mimetype": "text/x-python",
   "name": "python",
   "nbconvert_exporter": "python",
   "pygments_lexer": "ipython3",
   "version": "3.6.4"
  }
 },
 "nbformat": 4,
 "nbformat_minor": 2
}
